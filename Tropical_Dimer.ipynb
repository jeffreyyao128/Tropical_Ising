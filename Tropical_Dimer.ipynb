{
 "cells": [
  {
   "cell_type": "code",
   "execution_count": 11,
   "metadata": {},
   "outputs": [],
   "source": [
    "import numpy as np\n",
    "import copy\n",
    "import functools\n",
    "import operator\n",
    "import random"
   ]
  },
  {
   "cell_type": "code",
   "execution_count": 17,
   "metadata": {},
   "outputs": [
    {
     "data": {
      "text/plain": [
       "<torch._C.Generator at 0x7f19e517b2f0>"
      ]
     },
     "execution_count": 17,
     "metadata": {},
     "output_type": "execute_result"
    }
   ],
   "source": [
    "import torch\n",
    "import matplotlib.pyplot as plt\n",
    "\n",
    "torch.manual_seed(42)"
   ]
  },
  {
   "cell_type": "code",
   "execution_count": 12,
   "metadata": {},
   "outputs": [],
   "source": [
    "class Tropical:\n",
    "    def __init__(self,e,n=1):\n",
    "        self.e = e\n",
    "        self.n = n\n",
    "        \n",
    "    def __add__(self,other):\n",
    "        if self.e == other.e:\n",
    "            n1 = self.n+other.n\n",
    "        elif self.e > other.e:\n",
    "            n1 = other.n\n",
    "        elif self.e< other.e:\n",
    "            n1 = self.n\n",
    "        return Tropical(min(self.e,other.e),n1)\n",
    "    \n",
    "    def __mul__(self,other):\n",
    "        return Tropical(self.e+other.e,self.n*other.n)\n",
    "    \n",
    "    def __str__(self):\n",
    "        return \"Tropical(%d,%d)\" %(self.e,self.n)\n",
    "    \n",
    "    def __truediv__(self,other):\n",
    "        return Tropical(self.e-other.e,self.n-other.n)"
   ]
  },
  {
   "cell_type": "code",
   "execution_count": 13,
   "metadata": {},
   "outputs": [],
   "source": [
    "def oinsum(eq, *arrays):\n",
    "    \n",
    "    \"\"\"A ``einsum`` implementation for ``numpy`` object arrays.\n",
    "    \"\"\"\n",
    "    lhs, output = eq.split('->')\n",
    "    inputs = lhs.split(',')\n",
    "\n",
    "    sizes = {}\n",
    "    for term, array in zip(inputs, arrays):\n",
    "        for k, d in zip(term, array.shape):\n",
    "            sizes[k] = d\n",
    "\n",
    "    out_size = tuple(sizes[k] for k in output)\n",
    "    out = np.empty(out_size, dtype=object) # malloc\n",
    "\n",
    "    inner = [k for k in sizes if k not in output]\n",
    "    inner_size = [sizes[k] for k in inner]\n",
    "\n",
    "    for coo_o in np.ndindex(*out_size):\n",
    "\n",
    "        coord = dict(zip(output, coo_o))\n",
    "\n",
    "        def gen_inner_sum():\n",
    "            for coo_i in np.ndindex(*inner_size):\n",
    "                coord.update(dict(zip(inner, coo_i)))\n",
    "\n",
    "                locs = [tuple(coord[k] for k in term) for term in inputs]\n",
    "                elements = (array[loc] for array, loc in zip(arrays, locs))\n",
    "                yield functools.reduce(operator.mul, elements)\n",
    "\n",
    "        out[coo_o] = functools.reduce(operator.add, gen_inner_sum())\n",
    "\n",
    "    return out"
   ]
  },
  {
   "cell_type": "code",
   "execution_count": 14,
   "metadata": {},
   "outputs": [],
   "source": [
    "def Eigen_Tropical(B):\n",
    "    '''\n",
    "    Return the max eigen value of a given tropical matrix (numpy array) B\n",
    "    '''\n",
    "    e = 10**(-5) # Error\n",
    "    N = 5*10**(1) # Total run time\n",
    "    dim = B.shape[0]\n",
    "    phi = np.array([Tropical(random.random(),1) for _ in range(dim)])\n",
    "    \n",
    "    flag = True\n",
    "    count = 0\n",
    "    lamb = np.sum(phi)\n",
    "    while (flag == True) and (count<=N):\n",
    "        print(\"phi = [%f,%f]\"%(phi[0].e,phi[1].e))\n",
    "    \n",
    "        phi1 = B@phi\n",
    "        lamb1 = np.sum(phi1)\n",
    "        phi1 = phi1/lamb1\n",
    "        error = abs((lamb1.e-lamb.e)/(lamb.e))\n",
    "        if error<= e:\n",
    "            flag = False\n",
    "        else:\n",
    "            phi = phi1\n",
    "            lamb = lamb1\n",
    "        print(\"%d time: Error = %f, lambda = %f\"%(count,error,lamb1.e))\n",
    "        count += 1\n",
    "    print('lambda = %f' % (lamb1.e))\n",
    "    return lamb1.e"
   ]
  },
  {
   "cell_type": "code",
   "execution_count": 15,
   "metadata": {},
   "outputs": [],
   "source": [
    "d = 2 # fixed\n",
    "D = 20 # PEPS size \n",
    "\n",
    "B = np.array([[Tropical(1, 1), Tropical(-1, 1)],\n",
    "        [Tropical(-1, 1), Tropical(1, 1)]], dtype=object)\n",
    "G = oinsum('ij,jk,kl,lm->ijkl',B,B,B,B)\n",
    "G = G.reshape(d,d**2,d)"
   ]
  },
  {
   "cell_type": "markdown",
   "metadata": {},
   "source": [
    "TODO: Now it's to try to build a function to translate a normal function to a tropical one"
   ]
  },
  {
   "cell_type": "code",
   "execution_count": 16,
   "metadata": {},
   "outputs": [],
   "source": [
    "S = np.vectorize(lambda x: Tropical(x)) # Vectorize would work for Tropical"
   ]
  },
  {
   "cell_type": "markdown",
   "metadata": {},
   "source": [
    "> Now we could try use the `loss` function as a black box to do the optimize work "
   ]
  },
  {
   "cell_type": "code",
   "execution_count": 17,
   "metadata": {},
   "outputs": [],
   "source": [
    "def loss(A):\n",
    "    '''\n",
    "    obtain a loss from a given matrix A (numpy.ndarray)\n",
    "    '''\n",
    "    Asymm = symmetrize(A)\n",
    "    print(\"already symmetrized\")\n",
    "    TA = S(Asymm)\n",
    "    print(\"done\")\n",
    "    T1 = oinsum('xa,xby,yc->abc',TA,G,TA)\n",
    "    return T1"
   ]
  },
  {
   "cell_type": "code",
   "execution_count": 18,
   "metadata": {},
   "outputs": [],
   "source": [
    "def symmetrize(A):\n",
    "    Asymm = A.reshape(d,D,D)\n",
    "    Asymm = (Asymm + np.transpose(Asymm,(0, 2, 1)))/2\n",
    "    return Asymm.reshape(d,D**2)"
   ]
  },
  {
   "cell_type": "code",
   "execution_count": 19,
   "metadata": {},
   "outputs": [
    {
     "name": "stdout",
     "output_type": "stream",
     "text": [
      "already symmetrized\n",
      "done\n",
      "already symmetrized\n",
      "done\n",
      "already symmetrized\n",
      "done\n",
      "already symmetrized\n",
      "done\n",
      "already symmetrized\n",
      "done\n",
      "already symmetrized\n",
      "done\n",
      "already symmetrized\n",
      "done\n",
      "already symmetrized\n",
      "done\n",
      "already symmetrized\n",
      "done\n",
      "already symmetrized\n",
      "done\n",
      "already symmetrized\n",
      "done\n",
      "already symmetrized\n",
      "done\n",
      "already symmetrized\n",
      "done\n",
      "already symmetrized\n",
      "done\n",
      "already symmetrized\n",
      "done\n",
      "already symmetrized\n",
      "done\n",
      "already symmetrized\n",
      "done\n",
      "already symmetrized\n",
      "done\n",
      "already symmetrized\n",
      "done\n",
      "already symmetrized\n",
      "done\n",
      "57.8 s ± 787 ms per loop (mean ± std. dev. of 7 runs, 3 loops each)\n"
     ]
    }
   ],
   "source": [
    "if __name__ == '__main__':\n",
    "    TestA = np.ones((d,D,D))\n",
    "    %timeit -n3 loss(TestA)"
   ]
  },
  {
   "cell_type": "code",
   "execution_count": null,
   "metadata": {},
   "outputs": [],
   "source": []
  }
 ],
 "metadata": {
  "kernelspec": {
   "display_name": "Python 3",
   "language": "python",
   "name": "python3"
  },
  "language_info": {
   "codemirror_mode": {
    "name": "ipython",
    "version": 3
   },
   "file_extension": ".py",
   "mimetype": "text/x-python",
   "name": "python",
   "nbconvert_exporter": "python",
   "pygments_lexer": "ipython3",
   "version": "3.6.8"
  }
 },
 "nbformat": 4,
 "nbformat_minor": 4
}
