{
 "cells": [
  {
   "cell_type": "code",
   "execution_count": null,
   "metadata": {},
   "outputs": [],
   "source": [
    "import numpy as np\n",
    "import copy\n",
    "import functools\n",
    "import operator\n",
    "# import torch"
   ]
  },
  {
   "cell_type": "code",
   "execution_count": null,
   "metadata": {},
   "outputs": [],
   "source": [
    "# mydevice = torch.device('cpu')\n",
    "# tropicaldt = np.dtype([('E',np.int32),('n',np.int32)])"
   ]
  },
  {
   "cell_type": "markdown",
   "metadata": {},
   "source": [
    "We define class `Tropical`"
   ]
  },
  {
   "cell_type": "code",
   "execution_count": 3,
   "metadata": {},
   "outputs": [],
   "source": [
    "class Tropical:\n",
    "    def __init__(self,e,n):\n",
    "        self.e = e\n",
    "        self.n = n\n",
    "    \n",
    "    def __add__(self,other):\n",
    "        if self.e == other.e:\n",
    "            n1 = self.n+other.n\n",
    "        elif self.e > other.e:\n",
    "            n1 = other.n\n",
    "        elif self.e< other.e:\n",
    "            n1 = self.n\n",
    "        return Tropical(min(self.e,other.e),n1)\n",
    "    \n",
    "    def __mul__(self,other):\n",
    "        return Tropical(self.e+other.e,self.n*other.n)\n",
    "    \n",
    "    def __str__(self):\n",
    "        return \"Tropical(%d,%d)\" %(self.e,self.n)"
   ]
  },
  {
   "cell_type": "markdown",
   "metadata": {},
   "source": [
    "Try primal way to gert eisum function for objects"
   ]
  },
  {
   "cell_type": "code",
   "execution_count": 4,
   "metadata": {},
   "outputs": [],
   "source": [
    "def oinsum(eq, *arrays):\n",
    "    \n",
    "    \"\"\"A ``einsum`` implementation for ``numpy`` object arrays.\n",
    "    \"\"\"\n",
    "    lhs, output = eq.split('->')\n",
    "    inputs = lhs.split(',')\n",
    "\n",
    "    sizes = {}\n",
    "    for term, array in zip(inputs, arrays):\n",
    "        for k, d in zip(term, array.shape):\n",
    "            sizes[k] = d\n",
    "\n",
    "    out_size = tuple(sizes[k] for k in output)\n",
    "    out = np.empty(out_size, dtype=object) # malloc\n",
    "\n",
    "    inner = [k for k in sizes if k not in output]\n",
    "    inner_size = [sizes[k] for k in inner]\n",
    "\n",
    "    for coo_o in np.ndindex(*out_size):\n",
    "\n",
    "        coord = dict(zip(output, coo_o))\n",
    "\n",
    "        def gen_inner_sum():\n",
    "            for coo_i in np.ndindex(*inner_size):\n",
    "                coord.update(dict(zip(inner, coo_i)))\n",
    "\n",
    "                locs = [tuple(coord[k] for k in term) for term in inputs]\n",
    "                elements = (array[loc] for array, loc in zip(arrays, locs))\n",
    "                yield functools.reduce(operator.mul, elements)\n",
    "\n",
    "        out[coo_o] = functools.reduce(operator.add, gen_inner_sum())\n",
    "\n",
    "    return out"
   ]
  },
  {
   "cell_type": "code",
   "execution_count": 5,
   "metadata": {},
   "outputs": [
    {
     "name": "stdout",
     "output_type": "stream",
     "text": [
      "Tropical(-66,16000)\n"
     ]
    }
   ],
   "source": [
    "if __name__==\"__main__\":\n",
    "    B = np.array([[Tropical(1, 1), Tropical(-1, 1)],\n",
    "                  [Tropical(-1, 1), Tropical(1, 1)]], dtype=object)\n",
    "    \n",
    "    G = oinsum('ij,jk,kl,lm,mi->ijklm', B, B, B, B, B)\n",
    "    Q = oinsum('abcde,ef,fghij->abcdghij',G,B,G)\n",
    "    # G = object_einsum('ij,jk->ik',B,B)\n",
    "    # G = oinsum('ij,jk->ik',B,B)\n",
    "\n",
    "    T = oinsum(\"abcdefgh,gi,hj,dk->abckefij\",Q,B,B,B)\n",
    "\n",
    "    T2 = oinsum(\"abcdefgh,hdijgmlk->eabcijklmf\",T,T)\n",
    "\n",
    "    F = oinsum(\"abcdefghij,gfklhonm,nmlpqcbars->jiosrdekpq\",T2,T,T2)\n",
    "\n",
    "    GB = oinsum(\"abcde,ai,bj,ck,dl,em->ijklm\",G,B,B,B,B,B) # Attach each leg of G with a B matrix\n",
    "    Emin = oinsum(\"abcdefghij,abcde,fghij->\",F,GB,GB) # get the minimal\n",
    "    print(Emin)\n",
    "    pass\n"
   ]
  },
  {
   "cell_type": "code",
   "execution_count": null,
   "metadata": {},
   "outputs": [],
   "source": []
  }
 ],
 "metadata": {
  "kernelspec": {
   "display_name": "Python 3",
   "language": "python",
   "name": "python3"
  },
  "language_info": {
   "codemirror_mode": {
    "name": "ipython",
    "version": 3
   },
   "file_extension": ".py",
   "mimetype": "text/x-python",
   "name": "python",
   "nbconvert_exporter": "python",
   "pygments_lexer": "ipython3",
   "version": "3.6.8"
  }
 },
 "nbformat": 4,
 "nbformat_minor": 4
}
