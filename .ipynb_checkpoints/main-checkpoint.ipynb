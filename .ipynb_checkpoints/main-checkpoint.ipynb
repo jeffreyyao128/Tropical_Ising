{
 "cells": [
  {
   "cell_type": "code",
   "execution_count": 4,
   "metadata": {},
   "outputs": [],
   "source": [
    "import numpy as np\n",
    "import torch"
   ]
  },
  {
   "cell_type": "markdown",
   "metadata": {},
   "source": [
    "We define class `Tropical`"
   ]
  },
  {
   "cell_type": "code",
   "execution_count": 2,
   "metadata": {},
   "outputs": [],
   "source": [
    "class Tropical:\n",
    "    def __init__(self,e,n):\n",
    "        self.e = e\n",
    "        self.n = n\n",
    "    \n",
    "    def __add__(self,other):\n",
    "        if self.e == other.e:\n",
    "            n1 = self.n+other.n\n",
    "        elif self.e > other.e:\n",
    "            n1 = other.n\n",
    "        elif self.e< other.e:\n",
    "            n1 = self.n\n",
    "        return Tropical(min(self.e,other.e),n1)\n",
    "    \n",
    "    def __mul__(self,other):\n",
    "        return Tropical(self.e+other.e,self.n*other.n)\n",
    "    \n",
    "    def __str__(self):\n",
    "        return \"Tropical(%d,%d)\" %(self.e,self.n)"
   ]
  },
  {
   "cell_type": "code",
   "execution_count": 3,
   "metadata": {},
   "outputs": [
    {
     "name": "stdout",
     "output_type": "stream",
     "text": [
      "Tropical(6,1)\n"
     ]
    }
   ],
   "source": [
    "if __name__==\"__main__\":\n",
    "    a = Tropical(1,1)\n",
    "    b = Tropical(5,1)\n",
    "    print(a*b)"
   ]
  },
  {
   "cell_type": "code",
   "execution_count": null,
   "metadata": {},
   "outputs": [],
   "source": []
  }
 ],
 "metadata": {
  "kernelspec": {
   "display_name": "Python 3",
   "language": "python",
   "name": "python3"
  },
  "language_info": {
   "codemirror_mode": {
    "name": "ipython",
    "version": 3
   },
   "file_extension": ".py",
   "mimetype": "text/x-python",
   "name": "python",
   "nbconvert_exporter": "python",
   "pygments_lexer": "ipython3",
   "version": "3.6.8"
  }
 },
 "nbformat": 4,
 "nbformat_minor": 4
}
