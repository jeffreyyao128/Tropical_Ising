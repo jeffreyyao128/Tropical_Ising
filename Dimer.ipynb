{
 "cells": [
  {
   "cell_type": "code",
   "execution_count": 1,
   "metadata": {},
   "outputs": [
    {
     "data": {
      "text/plain": [
       "<torch._C.Generator at 0x7f3f625c9cd0>"
      ]
     },
     "execution_count": 1,
     "metadata": {},
     "output_type": "execute_result"
    }
   ],
   "source": [
    "import torch \n",
    "import matplotlib.pyplot as plt \n",
    "#from lanczos import lanczos \n",
    "#torch.set_num_threads(1)\n",
    "torch.manual_seed(42)"
   ]
  },
  {
   "cell_type": "code",
   "execution_count": 3,
   "metadata": {},
   "outputs": [],
   "source": [
    "d = 2 # fixed\n",
    "D = 20\n",
    "dtype = torch.float64\n",
    "#Lancsize = 100 \n",
    "\n",
    "B = 0.01* torch.randn(d, D, D, dtype=dtype)\n",
    "#symmetrize initial boundary PEPS\n",
    "B = (B + B.permute(0, 2, 1))/2.\n",
    "A = torch.nn.Parameter(B.view(d, D**2))\n",
    "\n",
    "#dimer covering\n",
    "T = torch.zeros(d, d, d, d, dtype=dtype)\n",
    "T[0, 0, 0, 1] = 1.0 \n",
    "T[0, 0, 1, 0] = 1.0 \n",
    "T[0, 1, 0, 0] = 1.0 \n",
    "T[1, 0, 0, 0] = 1.0 \n",
    "T = T.view(d, d**2, d)\n",
    "\n",
    "optimizer = torch.optim.LBFGS([A], max_iter=20, tolerance_grad=0, tolerance_change=0, line_search_fn=\"strong_wolfe\")"
   ]
  },
  {
   "cell_type": "code",
   "execution_count": 3,
   "metadata": {},
   "outputs": [],
   "source": [
    "def symmetrize(A):\n",
    "    Asymm = A.view(d, D, D) \n",
    "    Asymm = (Asymm + Asymm.permute(0, 2, 1))/2\n",
    "    return Asymm.view(d, D**2)\n",
    "\n",
    "def closure():\n",
    "    optimizer.zero_grad()\n",
    "    Asymm = symmetrize(A)\n",
    "    T1 = torch.einsum('xa,xby,yc',(Asymm,T,Asymm)).view(D,D,d,d,D,D).permute(0,2,4,1,3,5).contiguous().view(D**2*d, D**2*d)\n",
    "    T2 = torch.einsum('xa,xb',(Asymm,Asymm)).view(D,D,D,D).permute(0,2,1,3).contiguous().view(D**2,D**2)\n",
    "\n",
    "    #phi0 = torch.randn(D**2*d)\n",
    "    #phi0 = phi0/phi0.norm()\n",
    "    #eigval_1, _ = lanczos(lambda x: T1@x, phi0, Lancsize)\n",
    "\n",
    "    #phi0 = torch.randn(D**2)\n",
    "    #phi0 = phi0/phi0.norm()\n",
    "    #eigval_2, _ = lanczos(lambda x: T2@x, phi0, Lancsize)\n",
    "\n",
    "    eigval_1,_ = torch.symeig(T1,eigenvectors=True)\n",
    "    eigval_2,_ = torch.symeig(T2,eigenvectors=True)\n",
    "\n",
    "    lnT = torch.log(eigval_1.max())\n",
    "    lnZ = torch.log(eigval_2.max())\n",
    "    loss = -lnT + lnZ\n",
    "    loss.backward()\n",
    "    return loss"
   ]
  },
  {
   "cell_type": "code",
   "execution_count": 4,
   "metadata": {},
   "outputs": [
    {
     "name": "stdout",
     "output_type": "stream",
     "text": [
      "epoch, residual entropy 0 0.032520854062758175 -0.8884594826789323\n",
      "epoch, residual entropy 1 0.29055531845437166 -0.003448972519403189\n",
      "epoch, residual entropy 2 0.29128559821582556 -0.000944247944074323\n",
      "epoch, residual entropy 3 0.2914547684393538 -0.0003640253517879178\n",
      "epoch, residual entropy 4 0.2914882351238006 -0.0002492408111047316\n",
      "epoch, residual entropy 5 0.2915100333773619 -0.000174476831221817\n",
      "epoch, residual entropy 6 0.29152400030567005 -0.0001265728491840574\n",
      "epoch, residual entropy 7 0.2915290272311859 -0.00010933142398992467\n",
      "epoch, residual entropy 8 0.2915329888580249 -9.574377631607227e-05\n",
      "epoch, residual entropy 9 0.29153637811684785 -8.411924512403068e-05\n",
      "epoch, residual entropy 10 0.2915399738318447 -7.178660742284425e-05\n",
      "epoch, residual entropy 11 0.2915421321806999 -6.438386986240358e-05\n",
      "epoch, residual entropy 12 0.29154349655936596 -5.9704303269872156e-05\n",
      "epoch, residual entropy 13 0.2915450970328468 -5.421497510927583e-05\n",
      "epoch, residual entropy 14 0.2915464710189255 -4.950245686749578e-05\n",
      "epoch, residual entropy 15 0.2915478699888929 -4.47042485061117e-05\n",
      "epoch, residual entropy 16 0.2915490948820567 -4.050309139971501e-05\n",
      "epoch, residual entropy 17 0.29154981582274964 -3.803039810294139e-05\n",
      "epoch, residual entropy 18 0.2915503494432361 -3.620017848452242e-05\n",
      "epoch, residual entropy 19 0.2915506361638105 -3.521677992024187e-05\n",
      "epoch, residual entropy 20 0.29155114131260884 -3.3484212928521637e-05\n",
      "epoch, residual entropy 21 0.2915515966400095 -3.1922524120366326e-05\n",
      "epoch, residual entropy 22 0.2915518998603108 -3.08825345430531e-05\n",
      "epoch, residual entropy 23 0.29155221437084133 -2.9803821566816693e-05\n",
      "epoch, residual entropy 24 0.29155251642667945 -2.876782588298013e-05\n",
      "epoch, residual entropy 25 0.2915527772864879 -2.7873124965120333e-05\n",
      "epoch, residual entropy 26 0.29155302810777783 -2.7012854309765588e-05\n",
      "epoch, residual entropy 27 0.29155328708375716 -2.6124614577431266e-05\n",
      "epoch, residual entropy 28 0.291553486424176 -2.5440913792780488e-05\n",
      "epoch, residual entropy 29 0.2915536449045968 -2.4897355247679434e-05\n",
      "epoch, residual entropy 30 0.29155375912628934 -2.450559595834512e-05\n",
      "epoch, residual entropy 31 0.2915540158101404 -2.362521780221502e-05\n",
      "epoch, residual entropy 32 0.29155424582696643 -2.2836302612027104e-05\n",
      "epoch, residual entropy 33 0.2915543503173854 -2.2477919792004116e-05\n",
      "epoch, residual entropy 34 0.29155449384924825 -2.198563203712889e-05\n",
      "epoch, residual entropy 35 0.2915545943167759 -2.1641046990738034e-05\n",
      "epoch, residual entropy 36 0.2915547113446548 -2.1239663000849335e-05\n",
      "epoch, residual entropy 37 0.29155478249653033 -2.099562522168759e-05\n",
      "epoch, residual entropy 38 0.29155491084312946 -2.055542011405623e-05\n",
      "epoch, residual entropy 39 0.2915549802840127 -2.0317250721956355e-05\n",
      "epoch, residual entropy 40 0.2915550660878212 -2.002295952129949e-05\n",
      "epoch, residual entropy 41 0.29155517206285264 -1.9659484755090916e-05\n",
      "epoch, residual entropy 42 0.29155524679993317 -1.9403150385499647e-05\n",
      "epoch, residual entropy 43 0.2915553126079562 -1.9177441032400266e-05\n",
      "epoch, residual entropy 44 0.2915553860356148 -1.8925597737868353e-05\n",
      "epoch, residual entropy 45 0.2915554642951159 -1.8657182116884613e-05\n",
      "epoch, residual entropy 46 0.291555554450297 -1.8347966512661014e-05\n",
      "epoch, residual entropy 47 0.2915556069475942 -1.8167910488496518e-05\n",
      "epoch, residual entropy 48 0.291555671296611 -1.7947205257105955e-05\n",
      "epoch, residual entropy 49 0.2915557415063459 -1.770639884598719e-05\n",
      "epoch, residual entropy 50 0.29155580667608305 -1.7482878695417524e-05\n",
      "epoch, residual entropy 51 0.29155585873277445 -1.730433386760358e-05\n",
      "epoch, residual entropy 52 0.29155589584772823 -1.717703643757158e-05\n",
      "epoch, residual entropy 53 0.2915559389878881 -1.7029073664452924e-05\n",
      "epoch, residual entropy 54 0.2915559709555442 -1.691943051395074e-05\n",
      "epoch, residual entropy 55 0.2915559964791603 -1.683188922923335e-05\n",
      "epoch, residual entropy 56 0.29155601804437925 -1.6757924515007057e-05\n",
      "epoch, residual entropy 57 0.2915560448575061 -1.6665960446909813e-05\n",
      "epoch, residual entropy 58 0.2915560745986756 -1.6563953733667004e-05\n",
      "epoch, residual entropy 59 0.2915560929099543 -1.650114943286972e-05\n",
      "epoch, residual entropy 60 0.29155611374027135 -1.6429705296358122e-05\n",
      "epoch, residual entropy 61 0.2915561365184267 -1.6351580434453143e-05\n",
      "epoch, residual entropy 62 0.29155615445081473 -1.6290075658699847e-05\n",
      "epoch, residual entropy 63 0.2915561702580476 -1.623585977227911e-05\n",
      "epoch, residual entropy 64 0.2915561883532156 -1.617379669117877e-05\n",
      "epoch, residual entropy 65 0.29155620527148063 -1.6115770169861782e-05\n",
      "epoch, residual entropy 66 0.2915562189220564 -1.6068951218508673e-05\n",
      "epoch, residual entropy 67 0.29155623351905113 -1.6018886225144344e-05\n",
      "epoch, residual entropy 68 0.29155624311529227 -1.5985972892103444e-05\n",
      "epoch, residual entropy 69 0.29155625182307077 -1.5956106821657105e-05\n",
      "epoch, residual entropy 70 0.2915562619235397 -1.5921464080579225e-05\n",
      "epoch, residual entropy 71 0.29155627383994975 -1.5880592996982522e-05\n",
      "epoch, residual entropy 72 0.29155628321978444 -1.5848421898052398e-05\n",
      "epoch, residual entropy 73 0.29155629752109835 -1.5799371035214863e-05\n",
      "epoch, residual entropy 74 0.2915563090406179 -1.5759861212730344e-05\n",
      "epoch, residual entropy 75 0.29155632050314395 -1.5720546867486542e-05\n",
      "epoch, residual entropy 76 0.2915563350373045 -1.5670697383751378e-05\n",
      "epoch, residual entropy 77 0.29155634808507 -1.5625945960101385e-05\n",
      "epoch, residual entropy 78 0.29155636385463435 -1.557185926979179e-05\n",
      "epoch, residual entropy 79 0.2915563724451875 -1.554239526059213e-05\n",
      "epoch, residual entropy 80 0.2915563850895504 -1.5499027433436343e-05\n",
      "epoch, residual entropy 81 0.29155639540734946 -1.5463639290108394e-05\n",
      "epoch, residual entropy 82 0.29155640483267575 -1.5431312163364343e-05\n",
      "epoch, residual entropy 83 0.2915564127942849 -1.5404005315839505e-05\n",
      "epoch, residual entropy 84 0.29155642090215483 -1.5376196820874092e-05\n",
      "epoch, residual entropy 85 0.29155642862924935 -1.534969431517534e-05\n",
      "epoch, residual entropy 86 0.2915564343246535 -1.533016013185322e-05\n",
      "epoch, residual entropy 87 0.2915564424988357 -1.530212419799568e-05\n",
      "epoch, residual entropy 88 0.2915564482928099 -1.5282251937655464e-05\n",
      "epoch, residual entropy 89 0.29155644886671706 -1.528028354224937e-05\n",
      "epoch, residual entropy 90 0.2915564490717095 -1.5279580455982888e-05\n",
      "epoch, residual entropy 91 0.2915564492408551 -1.527900031789131e-05\n",
      "epoch, residual entropy 92 0.2915564493871523 -1.5278498545552933e-05\n",
      "epoch, residual entropy 93 0.29155644951675797 -1.527805402210085e-05\n",
      "epoch, residual entropy 94 0.2915564496335312 -1.527765351141465e-05\n",
      "epoch, residual entropy 95 0.29155644974013306 -1.5277287886816135e-05\n",
      "epoch, residual entropy 96 0.2915564498384695 -1.5276950610971725e-05\n",
      "epoch, residual entropy 97 0.29155644993003804 -1.5276636547840216e-05\n",
      "epoch, residual entropy 98 0.2915564500159542 -1.5276341871284155e-05\n",
      "epoch, residual entropy 99 0.2915564500970831 -1.527606361421924e-05\n"
     ]
    },
    {
     "data": {
      "image/png": "[encoded data removed]",
      "text/plain": [
       "<Figure size 432x288 with 1 Axes>"
      ]
     },
     "metadata": {
      "needs_background": "light"
     },
     "output_type": "display_data"
    }
   ],
   "source": [
    "exact = 0.2915609040 \n",
    "Nepoch = 100 \n",
    "F=[]\n",
    "for epoch in range(Nepoch):\n",
    "    loss = optimizer.step(closure) # closure is used to calculate the loss\n",
    "    F.append(-loss.item())\n",
    "    print ('epoch, residual entropy', epoch, -loss.item(), (-loss.item()-exact)/exact)\n",
    "plt.plot(range(Nepoch),F)\n",
    "plt.show()"
   ]
  },
  {
   "cell_type": "code",
   "execution_count": null,
   "metadata": {},
   "outputs": [],
   "source": []
  }
 ],
 "metadata": {
  "kernelspec": {
   "display_name": "Python 3",
   "language": "python",
   "name": "python3"
  },
  "language_info": {
   "codemirror_mode": {
    "name": "ipython",
    "version": 3
   },
   "file_extension": ".py",
   "mimetype": "text/x-python",
   "name": "python",
   "nbconvert_exporter": "python",
   "pygments_lexer": "ipython3",
   "version": "3.6.8"
  }
 },
 "nbformat": 4,
 "nbformat_minor": 4
}
