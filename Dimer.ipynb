{
 "cells": [
  {
   "cell_type": "code",
   "execution_count": null,
   "metadata": {},
   "outputs": [],
   "source": [
    "import torch \n",
    "import matplotlib.pyplot as plt \n",
    "#from lanczos import lanczos \n",
    "#torch.set_num_threads(1)\n",
    "torch.manual_seed(42)"
   ]
  },
  {
   "cell_type": "code",
   "execution_count": null,
   "metadata": {},
   "outputs": [],
   "source": [
    "d = 2 # fixed\n",
    "D = 20\n",
    "dtype = torch.float64\n",
    "#Lancsize = 100 \n",
    "\n",
    "B = 0.01* torch.randn(d, D, D, dtype=dtype)\n",
    "#symmetrize initial boundary PEPS\n",
    "B = (B + B.permute(0, 2, 1))/2. #symmetrize\n",
    "A = torch.nn.Parameter(B.view(d, D**2))\n",
    "\n",
    "#dimer covering\n",
    "T = torch.zeros(d, d, d, d, dtype=dtype)\n",
    "T[0, 0, 0, 1] = 1.0 \n",
    "T[0, 0, 1, 0] = 1.0 \n",
    "T[0, 1, 0, 0] = 1.0 \n",
    "T[1, 0, 0, 0] = 1.0 \n",
    "T = T.view(d, d**2, d)\n",
    "\n",
    "optimizer = torch.optim.LBFGS([A], max_iter=20, tolerance_grad=0, tolerance_change=0, line_search_fn=\"strong_wolfe\")"
   ]
  },
  {
   "cell_type": "code",
   "execution_count": null,
   "metadata": {},
   "outputs": [],
   "source": [
    "def symmetrize(A):\n",
    "    Asymm = A.view(d, D, D) \n",
    "    Asymm = (Asymm + Asymm.permute(0, 2, 1))/2\n",
    "    return Asymm.view(d, D**2)\n",
    "\n",
    "def closure():\n",
    "    optimizer.zero_grad()\n",
    "    Asymm = symmetrize(A)\n",
    "    T1 = torch.einsum('xa,xby,yc',(Asymm,T,Asymm)).view(D,D,d,d,D,D).permute(0,2,4,1,3,5).contiguous().view(D**2*d, D**2*d)\n",
    "    T2 = torch.einsum('xa,xb',(Asymm,Asymm)).view(D,D,D,D).permute(0,2,1,3).contiguous().view(D**2,D**2)\n",
    "\n",
    "    #phi0 = torch.randn(D**2*d)\n",
    "    #phi0 = phi0/phi0.norm()\n",
    "    #eigval_1, _ = lanczos(lambda x: T1@x, phi0, Lancsize)\n",
    "\n",
    "    #phi0 = torch.randn(D**2)\n",
    "    #phi0 = phi0/phi0.norm()\n",
    "    #eigval_2, _ = lanczos(lambda x: T2@x, phi0, Lancsize)\n",
    "\n",
    "    eigval_1,_ = torch.symeig(T1,eigenvectors=True)\n",
    "    eigval_2,_ = torch.symeig(T2,eigenvectors=True)\n",
    "\n",
    "    lnT = torch.log(eigval_1.max())\n",
    "    lnZ = torch.log(eigval_2.max())\n",
    "    loss = -lnT + lnZ\n",
    "    loss.backward()\n",
    "    return loss"
   ]
  },
  {
   "cell_type": "code",
   "execution_count": null,
   "metadata": {},
   "outputs": [],
   "source": [
    "exact = 0.2915609040 \n",
    "Nepoch = 100 \n",
    "F=[]\n",
    "for epoch in range(Nepoch):\n",
    "    loss = optimizer.step(closure) # closure is used to calculate the loss\n",
    "    F.append(-loss.item())\n",
    "    print ('epoch, residual entropy', epoch, -loss.item(), (-loss.item()-exact)/exact)\n",
    "plt.plot(range(Nepoch),F)\n",
    "plt.show()"
   ]
  },
  {
   "cell_type": "code",
   "execution_count": null,
   "metadata": {},
   "outputs": [],
   "source": []
  }
 ],
 "metadata": {
  "kernelspec": {
   "display_name": "Python 3",
   "language": "python",
   "name": "python3"
  },
  "language_info": {
   "codemirror_mode": {
    "name": "ipython",
    "version": 3
   },
   "file_extension": ".py",
   "mimetype": "text/x-python",
   "name": "python",
   "nbconvert_exporter": "python",
   "pygments_lexer": "ipython3",
   "version": "3.6.8"
  }
 },
 "nbformat": 4,
 "nbformat_minor": 4
}
